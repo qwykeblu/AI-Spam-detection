{
 "cells": [
  {
   "cell_type": "code",
   "execution_count": 1,
   "id": "fd72a1ac-98f4-43a9-964d-69bb6f06a173",
   "metadata": {
    "tags": []
   },
   "outputs": [],
   "source": [
    "import pandas as pd\n",
    "from sklearn.model_selection import train_test_split\n",
    "from sklearn.feature_extraction.text import TfidfVectorizer\n",
    "from sklearn.utils import class_weight\n",
    "from tensorflow.keras.models import Sequential\n",
    "from tensorflow.keras.layers import Dense\n",
    "import numpy as np\n",
    "import matplotlib.pyplot as plt\n"
   ]
  },
  {
   "cell_type": "code",
   "execution_count": 2,
   "id": "b975e483-b6ee-4038-a463-738d719e09d4",
   "metadata": {
    "tags": []
   },
   "outputs": [],
   "source": [
    "df = pd.read_csv(\"spam.csv\", usecols=['v1','v2'])\n",
    "df['label'] = df['v1'].map({'ham': 0, 'spam': 1})\n"
   ]
  },
  {
   "cell_type": "code",
   "execution_count": 3,
   "id": "6170092e-555e-4468-bc82-0a78b849ad1d",
   "metadata": {
    "tags": []
   },
   "outputs": [
    {
     "data": {
      "text/html": [
       "<div>\n",
       "<style scoped>\n",
       "    .dataframe tbody tr th:only-of-type {\n",
       "        vertical-align: middle;\n",
       "    }\n",
       "\n",
       "    .dataframe tbody tr th {\n",
       "        vertical-align: top;\n",
       "    }\n",
       "\n",
       "    .dataframe thead th {\n",
       "        text-align: right;\n",
       "    }\n",
       "</style>\n",
       "<table border=\"1\" class=\"dataframe\">\n",
       "  <thead>\n",
       "    <tr style=\"text-align: right;\">\n",
       "      <th></th>\n",
       "      <th>v1</th>\n",
       "      <th>v2</th>\n",
       "      <th>label</th>\n",
       "    </tr>\n",
       "  </thead>\n",
       "  <tbody>\n",
       "    <tr>\n",
       "      <th>0</th>\n",
       "      <td>ham</td>\n",
       "      <td>Go until jurong point, crazy.. Available only ...</td>\n",
       "      <td>0</td>\n",
       "    </tr>\n",
       "    <tr>\n",
       "      <th>1</th>\n",
       "      <td>ham</td>\n",
       "      <td>Ok lar... Joking wif u oni...</td>\n",
       "      <td>0</td>\n",
       "    </tr>\n",
       "    <tr>\n",
       "      <th>2</th>\n",
       "      <td>spam</td>\n",
       "      <td>Free entry in 2 a wkly comp to win FA Cup fina...</td>\n",
       "      <td>1</td>\n",
       "    </tr>\n",
       "    <tr>\n",
       "      <th>3</th>\n",
       "      <td>ham</td>\n",
       "      <td>U dun say so early hor... U c already then say...</td>\n",
       "      <td>0</td>\n",
       "    </tr>\n",
       "    <tr>\n",
       "      <th>4</th>\n",
       "      <td>ham</td>\n",
       "      <td>Nah I don't think he goes to usf, he lives aro...</td>\n",
       "      <td>0</td>\n",
       "    </tr>\n",
       "    <tr>\n",
       "      <th>...</th>\n",
       "      <td>...</td>\n",
       "      <td>...</td>\n",
       "      <td>...</td>\n",
       "    </tr>\n",
       "    <tr>\n",
       "      <th>5567</th>\n",
       "      <td>spam</td>\n",
       "      <td>This is the 2nd time we have tried 2 contact u...</td>\n",
       "      <td>1</td>\n",
       "    </tr>\n",
       "    <tr>\n",
       "      <th>5568</th>\n",
       "      <td>ham</td>\n",
       "      <td>Will �_ b going to esplanade fr home?</td>\n",
       "      <td>0</td>\n",
       "    </tr>\n",
       "    <tr>\n",
       "      <th>5569</th>\n",
       "      <td>ham</td>\n",
       "      <td>Pity, * was in mood for that. So...any other s...</td>\n",
       "      <td>0</td>\n",
       "    </tr>\n",
       "    <tr>\n",
       "      <th>5570</th>\n",
       "      <td>ham</td>\n",
       "      <td>The guy did some bitching but I acted like i'd...</td>\n",
       "      <td>0</td>\n",
       "    </tr>\n",
       "    <tr>\n",
       "      <th>5571</th>\n",
       "      <td>ham</td>\n",
       "      <td>Rofl. Its true to its name</td>\n",
       "      <td>0</td>\n",
       "    </tr>\n",
       "  </tbody>\n",
       "</table>\n",
       "<p>5572 rows × 3 columns</p>\n",
       "</div>"
      ],
      "text/plain": [
       "        v1                                                 v2  label\n",
       "0      ham  Go until jurong point, crazy.. Available only ...      0\n",
       "1      ham                      Ok lar... Joking wif u oni...      0\n",
       "2     spam  Free entry in 2 a wkly comp to win FA Cup fina...      1\n",
       "3      ham  U dun say so early hor... U c already then say...      0\n",
       "4      ham  Nah I don't think he goes to usf, he lives aro...      0\n",
       "...    ...                                                ...    ...\n",
       "5567  spam  This is the 2nd time we have tried 2 contact u...      1\n",
       "5568   ham              Will �_ b going to esplanade fr home?      0\n",
       "5569   ham  Pity, * was in mood for that. So...any other s...      0\n",
       "5570   ham  The guy did some bitching but I acted like i'd...      0\n",
       "5571   ham                         Rofl. Its true to its name      0\n",
       "\n",
       "[5572 rows x 3 columns]"
      ]
     },
     "metadata": {},
     "output_type": "display_data"
    }
   ],
   "source": [
    "display(df)"
   ]
  },
  {
   "cell_type": "markdown",
   "id": "b30b9d09-8164-428e-97a6-4ef74de3a95d",
   "metadata": {},
   "source": [
    "# Data clean"
   ]
  },
  {
   "cell_type": "markdown",
   "id": "ddfec8bb-bd5f-4714-b452-26dde5187557",
   "metadata": {},
   "source": [
    "#### Class imbalance "
   ]
  },
  {
   "cell_type": "code",
   "execution_count": 4,
   "id": "311f6d97-c2d9-49c0-afb3-a4b3fda7debe",
   "metadata": {
    "tags": []
   },
   "outputs": [
    {
     "data": {
      "image/png": "[encoded data removed]",
      "text/plain": [
       "<Figure size 640x480 with 1 Axes>"
      ]
     },
     "metadata": {},
     "output_type": "display_data"
    }
   ],
   "source": [
    "value_counts_percent = df['v1'].value_counts(normalize=True) * 100\n",
    "\n",
    "# Plot the bar graph\n",
    "value_counts_percent.plot(kind='bar')\n",
    "plt.ylabel('Percentage')\n",
    "plt.title('Percentage of Spam and Ham')\n",
    "plt.show()"
   ]
  },
  {
   "cell_type": "markdown",
   "id": "384b0f78-da8a-410d-b2c4-13fa42fb6d18",
   "metadata": {},
   "source": [
    "##### Downsampling and Upweighting"
   ]
  },
  {
   "cell_type": "code",
   "execution_count": 5,
   "id": "9d85502f-3877-413a-a50f-a52f10f99197",
   "metadata": {
    "tags": []
   },
   "outputs": [],
   "source": [
    "df_majority = df[df.label==0]\n",
    "df_minority = df[df.label==1]\n",
    "\n",
    "df_majority_downsampled = df_majority.sample(n=len(df_minority), replace=False, random_state=42)\n",
    "\n",
    "df_balanced = pd.concat([df_majority_downsampled, df_minority])\n",
    "df_balanced = df_balanced.sample(frac=1, random_state=42).reset_index(drop=True)"
   ]
  },
  {
   "cell_type": "code",
   "execution_count": 6,
   "id": "f3664e7b-5979-4627-9127-6ac620746f62",
   "metadata": {
    "tags": []
   },
   "outputs": [
    {
     "name": "stdout",
     "output_type": "stream",
     "text": [
      "Epoch 1/3\n",
      "34/34 [==============================] - 2s 15ms/step - loss: 0.6585 - accuracy: 0.6298 - val_loss: 0.5560 - val_accuracy: 0.9167\n",
      "Epoch 2/3\n",
      "34/34 [==============================] - 0s 8ms/step - loss: 0.3287 - accuracy: 0.9833 - val_loss: 0.1699 - val_accuracy: 0.9750\n",
      "Epoch 3/3\n",
      "34/34 [==============================] - 0s 9ms/step - loss: 0.0561 - accuracy: 0.9907 - val_loss: 0.0952 - val_accuracy: 0.9750\n",
      "10/10 [==============================] - 0s 3ms/step - loss: 0.0977 - accuracy: 0.9632\n",
      "Model Accuracy: 96.32%\n"
     ]
    }
   ],
   "source": [
    "X_train, X_test, y_train, y_test = train_test_split(df_balanced['v2'], df_balanced['label'], test_size=0.2, random_state=42)\n",
    "\n",
    "vectorizer = TfidfVectorizer(stop_words='english')\n",
    "X_train_tfidf = vectorizer.fit_transform(X_train)\n",
    "X_test_tfidf = vectorizer.transform(X_test)\n",
    "\n",
    "class_weights = class_weight.compute_sample_weight(class_weight='balanced', y=y_train)\n",
    "class_weight_dict = {i: weight for i, weight in enumerate(np.unique(class_weights))}\n",
    "\n",
    "model = Sequential([\n",
    "    Dense(128, input_dim=X_train_tfidf.shape[1], activation='relu'),\n",
    "    Dense(64, activation='relu'),\n",
    "    Dense(1, activation='sigmoid')\n",
    "])\n",
    "\n",
    "model.compile(loss='binary_crossentropy', optimizer='adam', metrics=['accuracy'])\n",
    "\n",
    "model.fit(X_train_tfidf.toarray(), y_train, epochs=3, batch_size=32, validation_split=0.1, class_weight=class_weight_dict)\n",
    "\n",
    "loss, accuracy = model.evaluate(X_test_tfidf.toarray(), y_test)\n",
    "print(f\"Model Accuracy: {accuracy * 100:.2f}%\")"
   ]
  },
  {
   "cell_type": "code",
   "execution_count": 15,
   "id": "6d0b29dc-8ccd-47d5-84db-17a74492037e",
   "metadata": {
    "tags": []
   },
   "outputs": [
    {
     "name": "stdout",
     "output_type": "stream",
     "text": [
      "1/1 [==============================] - 0s 33ms/step\n",
      "The given message is 0.38% likely to be spam and 99.62% likely to be ham.\n"
     ]
    }
   ],
   "source": [
    "def predict_spam_or_ham(model, vectorizer, sentence):\n",
    "    sentence_tfidf = vectorizer.transform([sentence])\n",
    "    \n",
    "    spam_probability = model.predict(sentence_tfidf.toarray())[0][0]\n",
    "    ham_probability = 1 - spam_probability \n",
    "    \n",
    "    print(f\"The given message is {spam_probability * 100:.2f}% likely to be spam and {ham_probability * 100:.2f}% likely to be ham.\")\n",
    "    \n",
    "sentence = \"I'm gonna be home soon and i don't want to talk about this stuff anymore tonight, k? I've cried enough today.\"\n",
    "predict_spam_or_ham(model, vectorizer, sentence)\n"
   ]
  },
  {
   "cell_type": "code",
   "execution_count": null,
   "id": "14a723de-6a3e-493c-9c4c-6afb77baa5e8",
   "metadata": {},
   "outputs": [],
   "source": []
  }
 ],
 "metadata": {
  "kernelspec": {
   "display_name": "Python 3 (ipykernel)",
   "language": "python",
   "name": "python3"
  },
  "language_info": {
   "codemirror_mode": {
    "name": "ipython",
    "version": 3
   },
   "file_extension": ".py",
   "mimetype": "text/x-python",
   "name": "python",
   "nbconvert_exporter": "python",
   "pygments_lexer": "ipython3",
   "version": "3.11.4"
  }
 },
 "nbformat": 4,
 "nbformat_minor": 5
}
